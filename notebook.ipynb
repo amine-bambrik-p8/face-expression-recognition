{
 "cells": [
  {
   "cell_type": "code",
   "execution_count": null,
   "metadata": {},
   "outputs": [],
   "source": [
    "config_name = \"fer2013_exp_0\"\n",
    "config_path = 'configs/%s.json'%config_name"
   ]
  },
  {
   "cell_type": "code",
   "execution_count": null,
   "metadata": {},
   "outputs": [],
   "source": [
    "from utils.config import *\n",
    "\n",
    "from setup import process_config\n",
    "from setup import setup_logging\n",
    "\n",
    "from agents import *;"
   ]
  },
  {
   "cell_type": "code",
   "execution_count": null,
   "metadata": {},
   "outputs": [],
   "source": [
    "# parse the config json file\n",
    "config = process_config(config_path)\n",
    "setup_logging(config.log_dir)\n",
    "\n",
    "# Create the Agent and pass all the configuration to it then run it..\n",
    "agent_class = globals()[config.agent]\n",
    "agent = agent_class(config)\n",
    "agent.run()\n",
    "agent.finalize()"
   ]
  }
 ],
 "metadata": {
  "language_info": {
   "codemirror_mode": {
    "name": "ipython",
    "version": 3
   },
   "file_extension": ".py",
   "mimetype": "text/x-python",
   "name": "python",
   "nbconvert_exporter": "python",
   "pygments_lexer": "ipython3",
   "version": 3
  },
  "orig_nbformat": 2
 },
 "nbformat": 4,
 "nbformat_minor": 2
}